{
 "cells": [
  {
   "cell_type": "code",
   "execution_count": 66,
   "id": "3778f41d",
   "metadata": {},
   "outputs": [],
   "source": [
    "import random\n",
    "\n",
    "# --- Datos del problema ---\n",
    "tasks = ['A', 'B', 'C', 'D', 'E', 'F', 'G', 'H', 'I', 'J']\n",
    "precedence = {\n",
    "    'C': ['A'],\n",
    "    'D': ['A'],\n",
    "    'E': ['B'],\n",
    "    'F': ['C', 'D'],\n",
    "    'G': ['E', 'F'],\n",
    "    'H': ['G'],\n",
    "    'I': ['F'],\n",
    "    'J': ['H', 'I']\n",
    "}\n",
    "\n",
    "def is_valid(order):\n",
    "    position = {task: i for i, task in enumerate(order)}\n",
    "    for task, preds in precedence.items():\n",
    "        for pred in preds:\n",
    "            if position[pred] > position[task]:\n",
    "                return False\n",
    "    return True\n",
    "\n",
    "def fitness(order):\n",
    "    position = {task: i for i, task in enumerate(order)}\n",
    "    score = 100\n",
    "    for task, preds in precedence.items():\n",
    "        for pred in preds:\n",
    "            if position[pred] > position[task]:\n",
    "                score -= 30\n",
    "            else:\n",
    "                # Penalizar distancia grande entre pred y task\n",
    "                score -= (position[task] - position[pred] - 1) * 2\n",
    "    return score\n"
   ]
  },
  {
   "cell_type": "markdown",
   "id": "c8e6923b",
   "metadata": {},
   "source": [
    "## Generar población"
   ]
  },
  {
   "cell_type": "code",
   "execution_count": 67,
   "id": "a6bbef35",
   "metadata": {},
   "outputs": [
    {
     "name": "stdout",
     "output_type": "stream",
     "text": [
      "['E', 'J', 'G', 'B', 'H', 'I', 'C', 'D', 'A', 'F'] -> Fitness: -120\n",
      "['J', 'B', 'G', 'H', 'I', 'D', 'A', 'C', 'F', 'E'] -> Fitness: -98\n",
      "['J', 'F', 'C', 'E', 'H', 'G', 'I', 'A', 'D', 'B'] -> Fitness: -126\n",
      "['C', 'D', 'F', 'I', 'G', 'E', 'B', 'J', 'A', 'H'] -> Fitness: -68\n",
      "['A', 'H', 'D', 'J', 'I', 'F', 'B', 'E', 'G', 'C'] -> Fitness: -48\n",
      "['F', 'J', 'C', 'B', 'A', 'E', 'D', 'G', 'I', 'H'] -> Fitness: -84\n",
      "['F', 'A', 'I', 'D', 'H', 'B', 'J', 'C', 'G', 'E'] -> Fitness: -62\n",
      "['G', 'C', 'I', 'E', 'F', 'D', 'A', 'B', 'J', 'H'] -> Fitness: -170\n",
      "['B', 'G', 'A', 'F', 'H', 'C', 'I', 'E', 'J', 'D'] -> Fitness: -64\n",
      "['G', 'H', 'D', 'I', 'C', 'J', 'A', 'E', 'F', 'B'] -> Fitness: -104\n",
      "['G', 'C', 'A', 'F', 'B', 'E', 'D', 'J', 'I', 'H'] -> Fitness: -112\n",
      "['F', 'G', 'E', 'C', 'H', 'A', 'B', 'I', 'D', 'J'] -> Fitness: -80\n",
      "['G', 'A', 'B', 'J', 'C', 'E', 'D', 'F', 'H', 'I'] -> Fitness: -56\n",
      "['H', 'B', 'A', 'E', 'J', 'F', 'D', 'C', 'G', 'I'] -> Fitness: -60\n",
      "['D', 'F', 'I', 'G', 'E', 'C', 'B', 'H', 'J', 'A'] -> Fitness: -68\n",
      "['A', 'E', 'G', 'J', 'F', 'B', 'C', 'D', 'I', 'H'] -> Fitness: -120\n",
      "['I', 'A', 'C', 'F', 'D', 'B', 'H', 'E', 'J', 'G'] -> Fitness: -24\n",
      "['G', 'C', 'I', 'A', 'D', 'B', 'H', 'F', 'J', 'E'] -> Fitness: -62\n",
      "['A', 'C', 'B', 'F', 'E', 'H', 'D', 'J', 'I', 'G'] -> Fitness: -32\n",
      "['J', 'C', 'G', 'F', 'A', 'D', 'B', 'H', 'I', 'E'] -> Fitness: -102\n"
     ]
    }
   ],
   "source": [
    "def create_individual():\n",
    "    return random.sample(tasks, len(tasks))\n",
    "\n",
    "def create_population(size=20):\n",
    "    return [create_individual() for _ in range(size)]\n",
    "\n",
    "population = create_population()\n",
    "for ind in population:\n",
    "    print(ind, \"-> Fitness:\", fitness(ind))\n"
   ]
  },
  {
   "cell_type": "markdown",
   "id": "d4324e8d",
   "metadata": {},
   "source": [
    "## Operadores GA: selección, cruce, mutación"
   ]
  },
  {
   "cell_type": "code",
   "execution_count": 68,
   "id": "0def57a5",
   "metadata": {},
   "outputs": [],
   "source": [
    "def selection(pop):\n",
    "    a, b = random.sample(pop, 2)\n",
    "    return a if fitness(a) > fitness(b) else b\n",
    "\n",
    "def crossover(p1, p2):\n",
    "    size = len(p1)\n",
    "    start, end = sorted(random.sample(range(size), 2))\n",
    "    child = [None]*size\n",
    "    child[start:end] = p1[start:end]\n",
    "    fill = [x for x in p2 if x not in child]\n",
    "    idx = 0\n",
    "    for i in range(size):\n",
    "        if child[i] is None:\n",
    "            child[i] = fill[idx]\n",
    "            idx += 1\n",
    "    return child\n",
    "\n",
    "def mutate(ind, prob=0.2):\n",
    "    if random.random() < prob:\n",
    "        i, j = random.sample(range(len(ind)), 2)\n",
    "        ind[i], ind[j] = ind[j], ind[i]\n",
    "    return ind\n"
   ]
  },
  {
   "cell_type": "markdown",
   "id": "169df4d5",
   "metadata": {},
   "source": [
    "## Evolución"
   ]
  },
  {
   "cell_type": "code",
   "execution_count": 69,
   "id": "edbabe07",
   "metadata": {},
   "outputs": [
    {
     "name": "stdout",
     "output_type": "stream",
     "text": [
      "Gen  1: ['I', 'A', 'C', 'D', 'H', 'F', 'B', 'E', 'J', 'G'] | Fitness: 4 | Válido: False\n",
      "Gen  2: ['I', 'A', 'C', 'F', 'D', 'B', 'E', 'G', 'H', 'J'] | Fitness: 14 | Válido: False\n",
      "Gen  3: ['H', 'A', 'C', 'D', 'J', 'F', 'B', 'E', 'I', 'G'] | Fitness: 14 | Válido: False\n",
      "Gen  4: ['H', 'A', 'C', 'D', 'J', 'F', 'I', 'B', 'E', 'G'] | Fitness: 20 | Válido: False\n",
      "Gen  5: ['H', 'A', 'C', 'D', 'J', 'F', 'I', 'B', 'E', 'G'] | Fitness: 20 | Válido: False\n",
      "Gen  6: ['A', 'H', 'D', 'B', 'E', 'C', 'F', 'I', 'J', 'G'] | Fitness: 30 | Válido: False\n",
      "Gen  7: ['A', 'H', 'D', 'B', 'E', 'C', 'F', 'G', 'I', 'J'] | Fitness: 34 | Válido: False\n",
      "Gen  8: ['A', 'C', 'H', 'D', 'B', 'E', 'F', 'I', 'J', 'G'] | Fitness: 34 | Válido: False\n",
      "Gen  9: ['A', 'C', 'H', 'D', 'B', 'E', 'F', 'G', 'I', 'J'] | Fitness: 38 | Válido: False\n",
      "Gen 10: ['A', 'C', 'H', 'D', 'B', 'E', 'F', 'G', 'I', 'J'] | Fitness: 38 | Válido: False\n",
      "Gen 11: ['A', 'C', 'D', 'B', 'E', 'H', 'F', 'G', 'I', 'J'] | Fitness: 42 | Válido: False\n",
      "Gen 12: ['A', 'C', 'D', 'B', 'F', 'H', 'E', 'G', 'I', 'J'] | Fitness: 42 | Válido: False\n",
      "Gen 13: ['A', 'C', 'D', 'B', 'E', 'F', 'G', 'I', 'J', 'H'] | Fitness: 50 | Válido: False\n",
      "Gen 14: ['A', 'C', 'D', 'B', 'E', 'F', 'G', 'H', 'I', 'J'] | Fitness: 80 | Válido: True\n",
      "Gen 15: ['A', 'C', 'D', 'B', 'E', 'F', 'G', 'H', 'I', 'J'] | Fitness: 80 | Válido: True\n",
      "Gen 16: ['A', 'C', 'D', 'B', 'E', 'F', 'G', 'I', 'H', 'J'] | Fitness: 80 | Válido: True\n",
      "Gen 17: ['A', 'C', 'D', 'B', 'E', 'F', 'G', 'I', 'H', 'J'] | Fitness: 80 | Válido: True\n",
      "Gen 18: ['A', 'C', 'D', 'B', 'E', 'F', 'G', 'I', 'H', 'J'] | Fitness: 80 | Válido: True\n",
      "Gen 19: ['A', 'C', 'D', 'B', 'E', 'F', 'G', 'I', 'H', 'J'] | Fitness: 80 | Válido: True\n",
      "Gen 20: ['A', 'C', 'D', 'B', 'E', 'F', 'G', 'I', 'H', 'J'] | Fitness: 80 | Válido: True\n",
      "Gen 21: ['A', 'C', 'D', 'B', 'E', 'F', 'G', 'I', 'H', 'J'] | Fitness: 80 | Válido: True\n",
      "Gen 22: ['A', 'D', 'C', 'B', 'E', 'F', 'G', 'I', 'H', 'J'] | Fitness: 80 | Válido: True\n",
      "Gen 23: ['A', 'D', 'C', 'B', 'E', 'F', 'G', 'I', 'H', 'J'] | Fitness: 80 | Válido: True\n",
      "Gen 24: ['A', 'D', 'C', 'B', 'E', 'F', 'G', 'I', 'H', 'J'] | Fitness: 80 | Válido: True\n",
      "Gen 25: ['A', 'D', 'C', 'B', 'E', 'F', 'G', 'I', 'H', 'J'] | Fitness: 80 | Válido: True\n",
      "Gen 26: ['A', 'D', 'C', 'B', 'E', 'F', 'G', 'I', 'H', 'J'] | Fitness: 80 | Válido: True\n",
      "Gen 27: ['A', 'D', 'C', 'B', 'E', 'F', 'G', 'I', 'H', 'J'] | Fitness: 80 | Válido: True\n",
      "Gen 28: ['A', 'D', 'C', 'B', 'E', 'F', 'G', 'I', 'H', 'J'] | Fitness: 80 | Válido: True\n",
      "Gen 29: ['A', 'D', 'C', 'B', 'E', 'F', 'G', 'I', 'H', 'J'] | Fitness: 80 | Válido: True\n",
      "Gen 30: ['A', 'D', 'C', 'B', 'E', 'F', 'G', 'I', 'H', 'J'] | Fitness: 80 | Válido: True\n",
      "Gen 31: ['A', 'D', 'C', 'B', 'E', 'F', 'G', 'I', 'H', 'J'] | Fitness: 80 | Válido: True\n",
      "Gen 32: ['A', 'D', 'C', 'B', 'E', 'F', 'G', 'I', 'H', 'J'] | Fitness: 80 | Válido: True\n",
      "Gen 33: ['A', 'D', 'C', 'B', 'E', 'F', 'G', 'I', 'H', 'J'] | Fitness: 80 | Válido: True\n",
      "Gen 34: ['A', 'D', 'C', 'B', 'E', 'F', 'G', 'I', 'H', 'J'] | Fitness: 80 | Válido: True\n",
      "Gen 35: ['A', 'D', 'C', 'B', 'E', 'F', 'G', 'I', 'H', 'J'] | Fitness: 80 | Válido: True\n",
      "Gen 36: ['A', 'D', 'C', 'B', 'E', 'F', 'G', 'I', 'H', 'J'] | Fitness: 80 | Válido: True\n",
      "Gen 37: ['A', 'D', 'C', 'B', 'E', 'F', 'G', 'I', 'H', 'J'] | Fitness: 80 | Válido: True\n",
      "Gen 38: ['A', 'D', 'C', 'B', 'E', 'F', 'G', 'I', 'H', 'J'] | Fitness: 80 | Válido: True\n",
      "Gen 39: ['A', 'D', 'C', 'B', 'E', 'F', 'G', 'I', 'H', 'J'] | Fitness: 80 | Válido: True\n",
      "Gen 40: ['A', 'D', 'C', 'B', 'E', 'F', 'G', 'I', 'H', 'J'] | Fitness: 80 | Válido: True\n",
      "Gen 41: ['A', 'D', 'C', 'B', 'E', 'F', 'G', 'I', 'H', 'J'] | Fitness: 80 | Válido: True\n",
      "Gen 42: ['A', 'D', 'C', 'B', 'E', 'F', 'G', 'I', 'H', 'J'] | Fitness: 80 | Válido: True\n",
      "Gen 43: ['A', 'D', 'C', 'B', 'E', 'F', 'G', 'I', 'H', 'J'] | Fitness: 80 | Válido: True\n",
      "Gen 44: ['A', 'D', 'C', 'B', 'E', 'F', 'G', 'I', 'H', 'J'] | Fitness: 80 | Válido: True\n",
      "Gen 45: ['A', 'D', 'C', 'B', 'E', 'F', 'G', 'I', 'H', 'J'] | Fitness: 80 | Válido: True\n",
      "Gen 46: ['A', 'D', 'C', 'B', 'E', 'F', 'G', 'I', 'H', 'J'] | Fitness: 80 | Válido: True\n",
      "Gen 47: ['A', 'D', 'C', 'B', 'E', 'F', 'G', 'I', 'H', 'J'] | Fitness: 80 | Válido: True\n",
      "Gen 48: ['A', 'D', 'C', 'B', 'E', 'F', 'G', 'I', 'H', 'J'] | Fitness: 80 | Válido: True\n",
      "Gen 49: ['A', 'D', 'C', 'B', 'E', 'F', 'G', 'I', 'H', 'J'] | Fitness: 80 | Válido: True\n",
      "Gen 50: ['A', 'D', 'C', 'B', 'E', 'F', 'G', 'I', 'H', 'J'] | Fitness: 80 | Válido: True\n",
      "\n",
      "Mejor solución encontrada: ['A', 'D', 'C', 'B', 'E', 'F', 'G', 'I', 'H', 'J']\n"
     ]
    }
   ],
   "source": [
    "def evolve(population, generations=50):\n",
    "    for gen in range(generations):\n",
    "        new_pop = []\n",
    "        for _ in range(len(population)):\n",
    "            p1 = selection(population)\n",
    "            p2 = selection(population)\n",
    "            child = crossover(p1, p2)\n",
    "            child = mutate(child)\n",
    "            new_pop.append(child)\n",
    "        population = new_pop\n",
    "        best = max(population, key=fitness)\n",
    "        print(f\"Gen {gen+1:2d}: {best} | Fitness: {fitness(best)} | Válido: {is_valid(best)}\")\n",
    "    return best\n",
    "\n",
    "best = evolve(population)\n",
    "print(\"\\nMejor solución encontrada:\", best)\n"
   ]
  }
 ],
 "metadata": {
  "kernelspec": {
   "display_name": ".venv (3.10.12)",
   "language": "python",
   "name": "python3"
  },
  "language_info": {
   "codemirror_mode": {
    "name": "ipython",
    "version": 3
   },
   "file_extension": ".py",
   "mimetype": "text/x-python",
   "name": "python",
   "nbconvert_exporter": "python",
   "pygments_lexer": "ipython3",
   "version": "3.10.12"
  }
 },
 "nbformat": 4,
 "nbformat_minor": 5
}
